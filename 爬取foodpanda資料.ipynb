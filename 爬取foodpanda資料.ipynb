{
  "nbformat": 4,
  "nbformat_minor": 0,
  "metadata": {
    "colab": {
      "provenance": [],
      "authorship_tag": "ABX9TyM3uakln3GiQPZyWeBR2BSA",
      "include_colab_link": true
    },
    "kernelspec": {
      "name": "python3",
      "display_name": "Python 3"
    },
    "language_info": {
      "name": "python"
    }
  },
  "cells": [
    {
      "cell_type": "markdown",
      "metadata": {
        "id": "view-in-github",
        "colab_type": "text"
      },
      "source": [
        "<a href=\"https://colab.research.google.com/github/stear0727/-computer/blob/main/%E7%88%AC%E5%8F%96foodpanda%E8%B3%87%E6%96%99.ipynb\" target=\"_parent\"><img src=\"https://colab.research.google.com/assets/colab-badge.svg\" alt=\"Open In Colab\"/></a>"
      ]
    },
    {
      "cell_type": "code",
      "execution_count": null,
      "metadata": {
        "colab": {
          "base_uri": "https://localhost:8080/"
        },
        "id": "FXlZqZKdCc3T",
        "outputId": "f51b8e90-a7dc-453a-dcaf-bbe845189172"
      },
      "outputs": [
        {
          "output_type": "stream",
          "name": "stdout",
          "text": [
            "Requirement already satisfied: requests in /usr/local/lib/python3.10/dist-packages (2.31.0)\n",
            "Requirement already satisfied: charset-normalizer<4,>=2 in /usr/local/lib/python3.10/dist-packages (from requests) (3.3.2)\n",
            "Requirement already satisfied: idna<4,>=2.5 in /usr/local/lib/python3.10/dist-packages (from requests) (3.7)\n",
            "Requirement already satisfied: urllib3<3,>=1.21.1 in /usr/local/lib/python3.10/dist-packages (from requests) (2.0.7)\n",
            "Requirement already satisfied: certifi>=2017.4.17 in /usr/local/lib/python3.10/dist-packages (from requests) (2024.6.2)\n",
            "Requirement already satisfied: beautifulsoup4 in /usr/local/lib/python3.10/dist-packages (4.12.3)\n",
            "Requirement already satisfied: soupsieve>1.2 in /usr/local/lib/python3.10/dist-packages (from beautifulsoup4) (2.5)\n"
          ]
        }
      ],
      "source": [
        "#資料來源:https://blog.jiatool.com/posts/foodpanda_spider/\n",
        "!pip install requests\n",
        "!pip install beautifulsoup4\n"
      ]
    },
    {
      "cell_type": "code",
      "source": [
        "#爬取foodpanda外送平台資料\n",
        "\n",
        "import requests\n",
        "\n",
        "# 定義 API URL\n",
        "url = 'https://disco.deliveryhero.io/listing/api/v1/pandora/vendors'\n",
        "\n",
        "# 設定查詢參數\n",
        "query = {\n",
        "    'longitude': 120.73514,  # 經度\n",
        "    'latitude': 24.17380,  # 緯度\n",
        "    'language_id': 6,  # 語言ID\n",
        "    'include': 'characteristics',  # 包含特徵\n",
        "    'dynamic_pricing': 0,  # 動態定價\n",
        "    'configuration': 'Variant1',  # 配置\n",
        "    'country': 'tw',  # 國家\n",
        "    'budgets': '',  # 預算\n",
        "    'cuisine': '',  # 菜系\n",
        "    'sort': '',  # 排序\n",
        "    'food_characteristic': '',  # 食物特徵\n",
        "    'use_free_delivery_label': False,  # 是否使用免費配送標籤\n",
        "    'vertical': 'restaurants',  # 垂直領域\n",
        "    'limit': 48,  # 限制\n",
        "    'offset': 0,  # 偏移量\n",
        "    'customer_type': 'regular'  # 客戶類型\n",
        "}\n",
        "\n",
        "# 設定請求標頭\n",
        "headers = {\n",
        "    'x-disco-client-id': 'web',  # 客戶端ID\n",
        "}\n",
        "\n",
        "# 發送 GET 請求\n",
        "r = requests.get(url=url, params=query, headers=headers)  # 發送GET請求\n",
        "\n",
        "# 檢查請求是否成功\n",
        "if r.status_code == requests.codes.ok:  # 如果請求成功\n",
        "    data = r.json()  # 解析回應JSON數據\n",
        "    restaurants = data['data']['items']  # 獲取餐廳列表\n",
        "    for restaurant in restaurants[:5]:  # 列印前5家餐廳的名稱\n",
        "        print(restaurant['name'])  # 列印餐廳名稱\n",
        "else:\n",
        "    print('請求失敗')  # 如果請求失敗則列印錯誤信息\n"
      ],
      "metadata": {
        "colab": {
          "base_uri": "https://localhost:8080/"
        },
        "id": "6q53JBK0UtTZ",
        "outputId": "06e3ddec-332d-49fe-83b5-6799ac1d38b4"
      },
      "execution_count": null,
      "outputs": [
        {
          "output_type": "stream",
          "name": "stdout",
          "text": [
            "粥神廣東粥 (台中東山店)\n",
            "早安美芝城 (台中環太概念店)\n",
            "梁社漢排骨 (台中東山店)\n",
            "五享鐵板燒\n",
            "胖老爹美式炸雞 (北屯軍功店)\n"
          ]
        }
      ]
    }
  ]
}