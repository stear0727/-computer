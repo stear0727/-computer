{
  "nbformat": 4,
  "nbformat_minor": 0,
  "metadata": {
    "colab": {
      "provenance": [],
      "mount_file_id": "14Y199hekDud1jTGm2ploPbnYwo5d9w6b",
      "authorship_tag": "ABX9TyObiKojmMIKAYjU2nDjRfEm",
      "include_colab_link": true
    },
    "kernelspec": {
      "name": "python3",
      "display_name": "Python 3"
    },
    "language_info": {
      "name": "python"
    }
  },
  "cells": [
    {
      "cell_type": "markdown",
      "metadata": {
        "id": "view-in-github",
        "colab_type": "text"
      },
      "source": [
        "<a href=\"https://colab.research.google.com/github/stear0727/-computer/blob/main/video4_3.ipynb\" target=\"_parent\"><img src=\"https://colab.research.google.com/assets/colab-badge.svg\" alt=\"Open In Colab\"/></a>"
      ]
    },
    {
      "cell_type": "code",
      "execution_count": null,
      "metadata": {
        "colab": {
          "base_uri": "https://localhost:8080/"
        },
        "id": "KGah0JAXD6p_",
        "outputId": "a7a5eb35-2cd4-4880-f4da-d03100a4a4d8"
      },
      "outputs": [
        {
          "output_type": "stream",
          "name": "stdout",
          "text": [
            "Requirement already satisfied: opencv-python in /usr/local/lib/python3.10/dist-packages (4.8.0.76)\n",
            "Requirement already satisfied: numpy>=1.21.2 in /usr/local/lib/python3.10/dist-packages (from opencv-python) (1.25.2)\n"
          ]
        }
      ],
      "source": [
        "!pip install opencv-python"
      ]
    },
    {
      "cell_type": "code",
      "source": [
        "import cv2\n",
        "import os\n",
        "\n",
        "def crop_video_to_4_3(input_path, output_path):\n",
        "    # 打開影片檔案\n",
        "    cap = cv2.VideoCapture(input_path)\n",
        "\n",
        "    # 取得影片的原始寬度和高度\n",
        "    original_width = int(cap.get(cv2.CAP_PROP_FRAME_WIDTH))\n",
        "    original_height = int(cap.get(cv2.CAP_PROP_FRAME_HEIGHT))\n",
        "\n",
        "    # 計算4:3比例的寬度\n",
        "    new_width = int(original_height * 4 / 3)\n",
        "\n",
        "    # 計算裁剪的邊界\n",
        "    if new_width < original_width:\n",
        "        left = (original_width - new_width) // 2\n",
        "        right = left + new_width\n",
        "    else:\n",
        "        left, right = 0, original_width\n",
        "\n",
        "    # 設定影片的編碼方式\n",
        "    fourcc = cv2.VideoWriter_fourcc(*'mp4v')\n",
        "    out = cv2.VideoWriter(output_path, fourcc, cap.get(cv2.CAP_PROP_FPS), (new_width, original_height))\n",
        "\n",
        "    while cap.isOpened():\n",
        "        ret, frame = cap.read()\n",
        "        if not ret:\n",
        "            break\n",
        "\n",
        "        # 裁剪影片左右邊緣\n",
        "        cropped_frame = frame[:, left:right]\n",
        "        out.write(cropped_frame)\n",
        "\n",
        "    cap.release()\n",
        "    out.release()\n",
        "\n",
        "def main():\n",
        "    # 創建儲存影片的資料夾\n",
        "    output_folder = '/content/drive/MyDrive/video'\n",
        "    if not os.path.exists(output_folder):\n",
        "        os.makedirs(output_folder)\n",
        "\n",
        "    # 輸入包含影片的資料夾路徑\n",
        "    input_folder = input(\"請輸入包含影片的資料夾路徑: \")\n",
        "\n",
        "    if not os.path.exists(input_folder):\n",
        "        print(\"指定的資料夾不存在。\")\n",
        "        return\n",
        "\n",
        "    # 獲取資料夾中的所有影片檔案路徑\n",
        "    input_paths = [os.path.join(input_folder, file) for file in os.listdir(input_folder) if file.endswith(('.mp4', '.avi', '.mov', '.mkv'))]\n",
        "\n",
        "    if not input_paths:\n",
        "        print(\"資料夾中沒有找到任何影片檔案。\")\n",
        "        return\n",
        "\n",
        "    for input_path in input_paths:\n",
        "        file_name = os.path.basename(input_path)\n",
        "        output_path = os.path.join(output_folder, file_name)\n",
        "        crop_video_to_4_3(input_path, output_path)\n",
        "        print(f\"影片 '{file_name}' 已調整大小並儲存至 {output_path}\")\n",
        "\n",
        "if __name__ == \"__main__\":\n",
        "    main()\n"
      ],
      "metadata": {
        "colab": {
          "base_uri": "https://localhost:8080/"
        },
        "id": "mhHXwq3GEV4P",
        "outputId": "ba6aef53-671e-4c98-c7b8-813b667ee04a"
      },
      "execution_count": null,
      "outputs": [
        {
          "output_type": "stream",
          "name": "stdout",
          "text": [
            "請輸入包含影片的資料夾路徑: /content/drive/MyDrive/video teat\n",
            "影片 '72024-06-26_08_01_41.mp4' 已調整大小並儲存至 /content/drive/MyDrive/video/72024-06-26_08_01_41.mp4\n",
            "影片 '62024-06-26_07_59_54.mp4' 已調整大小並儲存至 /content/drive/MyDrive/video/62024-06-26_07_59_54.mp4\n",
            "影片 '112024-06-26_08_05_33.mp4' 已調整大小並儲存至 /content/drive/MyDrive/video/112024-06-26_08_05_33.mp4\n",
            "影片 's22024-06-26_08_09_38.mp4' 已調整大小並儲存至 /content/drive/MyDrive/video/s22024-06-26_08_09_38.mp4\n",
            "影片 '82024-06-26_08_03_57.mp4' 已調整大小並儲存至 /content/drive/MyDrive/video/82024-06-26_08_03_57.mp4\n",
            "影片 's32024-06-26_08_10_35.mp4' 已調整大小並儲存至 /content/drive/MyDrive/video/s32024-06-26_08_10_35.mp4\n",
            "影片 '12024-06-26_07_54_10.mp4' 已調整大小並儲存至 /content/drive/MyDrive/video/12024-06-26_07_54_10.mp4\n",
            "影片 '32024-06-26_07_58_10.mp4' 已調整大小並儲存至 /content/drive/MyDrive/video/32024-06-26_07_58_10.mp4\n",
            "影片 '52024-06-26_07_59_26.mp4' 已調整大小並儲存至 /content/drive/MyDrive/video/52024-06-26_07_59_26.mp4\n",
            "影片 '42024-06-26_07_58_38.mp4' 已調整大小並儲存至 /content/drive/MyDrive/video/42024-06-26_07_58_38.mp4\n",
            "影片 's12024-06-26_08_09_03.mp4' 已調整大小並儲存至 /content/drive/MyDrive/video/s12024-06-26_08_09_03.mp4\n",
            "影片 '102024-06-26_08_05_01.mp4' 已調整大小並儲存至 /content/drive/MyDrive/video/102024-06-26_08_05_01.mp4\n",
            "影片 's42024-06-26_08_11_08.mp4' 已調整大小並儲存至 /content/drive/MyDrive/video/s42024-06-26_08_11_08.mp4\n",
            "影片 '92024-06-26_08_04_20.mp4' 已調整大小並儲存至 /content/drive/MyDrive/video/92024-06-26_08_04_20.mp4\n",
            "影片 '22024-06-26_07_56_07.mp4' 已調整大小並儲存至 /content/drive/MyDrive/video/22024-06-26_07_56_07.mp4\n"
          ]
        }
      ]
    }
  ]
}